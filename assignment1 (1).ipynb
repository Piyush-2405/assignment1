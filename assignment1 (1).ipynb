{
 "cells": [
  {
   "cell_type": "markdown",
   "id": "ea30871b-023c-4907-ab7a-56f71c3589c1",
   "metadata": {},
   "source": [
    "1.  Who developed Python Programming Language? \n",
    "Guido van Rossum developed the python prgramming language"
   ]
  },
  {
   "cell_type": "markdown",
   "id": "e0fcca0c-8010-488e-8952-647d7dc8d6f7",
   "metadata": {},
   "source": [
    "2. Which type of Programming does Python support? \n",
    "Python is an interpreted programming language, supporting object-oriented, structured, and functional programming."
   ]
  },
  {
   "cell_type": "markdown",
   "id": "84031fff-3ad2-43d9-b6cc-dab47f85a7cb",
   "metadata": {},
   "source": [
    "3. Is Python case sensitive when dealing with identifiers?\n",
    "Yes, Python is a case-sensitive language, i.e., it treats uppercase and lowercase characters differently."
   ]
  },
  {
   "cell_type": "markdown",
   "id": "6cbbb338-4d16-48e0-9f6c-d281256abc2e",
   "metadata": {},
   "source": [
    "4. What is the correct extension of the Python file? \n",
    ".py is the correct extension of the python file."
   ]
  },
  {
   "cell_type": "markdown",
   "id": "1ee22dcf-0673-4a40-8d68-ef54783a0373",
   "metadata": {},
   "source": [
    "5. Is Python code compiled or interpreted? \n",
    "Python code is interpreted."
   ]
  },
  {
   "cell_type": "markdown",
   "id": "5c89571b-7c73-4ce4-abc9-3783435f282d",
   "metadata": {},
   "source": [
    "6. Name a few blocks of code used to define in Python language? \n",
    "Indentation is used to define a block of code in python. "
   ]
  },
  {
   "cell_type": "markdown",
   "id": "58b8e241-4c76-4787-922c-6a803322f4e3",
   "metadata": {},
   "source": [
    "7. State a character used to give single-line comments in Python? \n",
    "Hash character(#) is used to give a single line comments in python."
   ]
  },
  {
   "cell_type": "markdown",
   "id": "56559f7c-fb21-4663-b64f-865db4d7d4ce",
   "metadata": {},
   "source": [
    "8. Mention functions which can help us to find the version of python that we are currently working on?\n",
    "The function sys.version can help us to find the version of python that we are currently working on."
   ]
  },
  {
   "cell_type": "markdown",
   "id": "f192ea94-b4ed-4b0b-9742-d947ff33255c",
   "metadata": {},
   "source": [
    "9.  Python supports the creation of anonymous functions at runtime, using a construct called ......\n",
    "Python supports the creation of anonymous functions at runtime, using a construct called \"lambda\" ."
   ]
  },
  {
   "cell_type": "markdown",
   "id": "ec06071f-7809-4584-8eb3-354eba5c2f29",
   "metadata": {},
   "source": [
    "10. What does pip stand for python? \n",
    "pip stands for \"preferred installer program\" in python."
   ]
  },
  {
   "cell_type": "markdown",
   "id": "317d257a-d2fa-4b91-935a-5449e293fcce",
   "metadata": {},
   "source": [
    "11. Mention a few built-in functions in python? \n",
    "print( ) function, type( ) function, input( ) function, abs( ) function, pow( ) function, dir( ) function, sorted( ) function, max( ) function."
   ]
  },
  {
   "cell_type": "markdown",
   "id": "cd1190fa-7293-4658-b082-72e16eab6b83",
   "metadata": {},
   "source": [
    "12.  What is the maximum possible length of an identifier in Python?  \n",
    "An identifier can have a maximum length of 79 characters in Python."
   ]
  },
  {
   "cell_type": "markdown",
   "id": "ab99bf85-0a6d-4e43-950c-e91837871fb6",
   "metadata": {},
   "source": [
    "13.  What are the benefits of using Python? \n",
    "\n",
    "Python is commonly used for developing websites and software, task automation, data analysis, and data visualization."
   ]
  },
  {
   "cell_type": "markdown",
   "id": "dfa4d195-8c34-445f-90d9-2d05cad2a7df",
   "metadata": {},
   "source": [
    "14. How is memory managed in Python? \n",
    "Memory management in Python involves a private heap containing all Python objects and data structures. The management of this private heap is ensured internally by the Python memory manager."
   ]
  },
  {
   "cell_type": "markdown",
   "id": "41f4e41f-dd3a-444d-a80a-f3252ae39ed3",
   "metadata": {},
   "source": [
    "15. How to install Python on Windows and set path variables?\n",
    "Install python from this link https://www.python.org/downloads/\n",
    "After this, install it on your PC. Look for the location where PYTHON has been installed on your PC using the following command on your command prompt: cmd python.\n",
    "Then go to advanced system settings and add new variable and name it as PYTHON_NAME and paste the copied path.\n",
    "Then look for the path variable, select it's value and select edit\n",
    "Add a semicolon towards the end of the value if it's not present and then type %PYTHON_HOME%"
   ]
  },
  {
   "cell_type": "markdown",
   "id": "2b2613ff-5e86-445b-bd41-075a554c7937",
   "metadata": {},
   "source": [
    "16. Is indentation required in python? \n",
    "Indentation in Python is very important. Python uses indentation to indicate a block of code."
   ]
  }
 ],
 "metadata": {
  "kernelspec": {
   "display_name": "Python 3 (ipykernel)",
   "language": "python",
   "name": "python3"
  },
  "language_info": {
   "codemirror_mode": {
    "name": "ipython",
    "version": 3
   },
   "file_extension": ".py",
   "mimetype": "text/x-python",
   "name": "python",
   "nbconvert_exporter": "python",
   "pygments_lexer": "ipython3",
   "version": "3.10.8"
  }
 },
 "nbformat": 4,
 "nbformat_minor": 5
}
